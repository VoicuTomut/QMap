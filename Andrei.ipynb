{
 "cells": [
  {
   "cell_type": "code",
   "execution_count": 1,
   "id": "0ed64736",
   "metadata": {},
   "outputs": [],
   "source": [
    "import numpy as np\n",
    "import matplotlib.pyplot as plt \n",
    "\n"
   ]
  },
  {
   "cell_type": "code",
   "execution_count": 2,
   "id": "db4d5f04",
   "metadata": {},
   "outputs": [
    {
     "name": "stdout",
     "output_type": "stream",
     "text": [
      "[0. 4. 1. 3.]\n",
      "[4. 0. 2. 1.]\n",
      "[1. 2. 0. 5.]\n",
      "[3. 1. 5. 0.]\n"
     ]
    }
   ],
   "source": [
    "# Input:\n",
    "size=4\n",
    "\n",
    "pub_index=[i for i in range(size)]\n",
    "exp=np.zeros((4,4))\n",
    "\n",
    "\n",
    "###\n",
    "exp[0][1]=4\n",
    "exp[0][2]=1\n",
    "exp[0][3]=3\n",
    "\n",
    "exp[1][2]=2\n",
    "exp[1][3]=1\n",
    "\n",
    "exp[2][3]=5\n",
    "\n",
    "exp[1][0]=4\n",
    "exp[2][0]=1\n",
    "exp[3][0]=3\n",
    "\n",
    "exp[2][1]=2\n",
    "exp[3][1]=1\n",
    "\n",
    "exp[3][2]=5\n",
    "###\n",
    "\n",
    "for i in exp:\n",
    "    print(i)\n",
    "    "
   ]
  },
  {
   "cell_type": "markdown",
   "id": "f3325f95",
   "metadata": {},
   "source": [
    "## Classic brut "
   ]
  },
  {
   "cell_type": "code",
   "execution_count": 3,
   "id": "147a242e",
   "metadata": {},
   "outputs": [],
   "source": [
    "# classic imports \n",
    "\n",
    "from itertools import permutations\n",
    "import numpy as np\n"
   ]
  },
  {
   "cell_type": "code",
   "execution_count": 4,
   "id": "5fda2683",
   "metadata": {},
   "outputs": [
    {
     "name": "stdout",
     "output_type": "stream",
     "text": [
      "(0, 1, 2, 3)\n",
      "(0, 1, 3, 2)\n",
      "(0, 2, 1, 3)\n",
      "(0, 2, 3, 1)\n",
      "(0, 3, 1, 2)\n",
      "(0, 3, 2, 1)\n",
      "(1, 0, 2, 3)\n",
      "(1, 0, 3, 2)\n",
      "(1, 2, 0, 3)\n",
      "(1, 2, 3, 0)\n",
      "(1, 3, 0, 2)\n",
      "(1, 3, 2, 0)\n",
      "(2, 0, 1, 3)\n",
      "(2, 0, 3, 1)\n",
      "(2, 1, 0, 3)\n",
      "(2, 1, 3, 0)\n",
      "(2, 3, 0, 1)\n",
      "(2, 3, 1, 0)\n",
      "(3, 0, 1, 2)\n",
      "(3, 0, 2, 1)\n",
      "(3, 1, 0, 2)\n",
      "(3, 1, 2, 0)\n",
      "(3, 2, 0, 1)\n",
      "(3, 2, 1, 0)\n"
     ]
    }
   ],
   "source": [
    "opt=permutations(pub_index)\n",
    "\n",
    "for o in opt:\n",
    "    print(o)"
   ]
  },
  {
   "cell_type": "code",
   "execution_count": 5,
   "id": "132d3e95",
   "metadata": {},
   "outputs": [],
   "source": [
    "def cost(rut,w):\n",
    "\n",
    "    dist=0\n",
    "    for i in range(0,len(rut)-1):\n",
    "        dist=dist+w[rut[i]][rut[i+1]]\n",
    "    dist=dist+w[rut[i+1]][rut[0]]\n",
    "    \n",
    "    return dist\n",
    "\n",
    "def get_minim_Brut(w):\n",
    "    \n",
    "    opt=permutations(pub_index)\n",
    "    opt=list(opt)\n",
    "    mi=cost(opt[0],w)\n",
    "    solutions=[]\n",
    "    \n",
    "    for rut in opt:\n",
    "        c=cost(rut,w)\n",
    "        if (mi>c):\n",
    "            solutions=[]\n",
    "            solutions.append(rut)\n",
    "            mi=c\n",
    "        elif (mi==c):\n",
    "            solutions.append(rut)\n",
    "            \n",
    "    return mi , solutions\n",
    "        "
   ]
  },
  {
   "cell_type": "code",
   "execution_count": 6,
   "id": "018febe0",
   "metadata": {},
   "outputs": [
    {
     "name": "stdout",
     "output_type": "stream",
     "text": [
      "min:7.0\n",
      "solutions:\n",
      "(0, 2, 1, 3)\n",
      "(0, 3, 1, 2)\n",
      "(1, 2, 0, 3)\n",
      "(1, 3, 0, 2)\n",
      "(2, 0, 3, 1)\n",
      "(2, 1, 3, 0)\n",
      "(3, 0, 2, 1)\n",
      "(3, 1, 2, 0)\n"
     ]
    }
   ],
   "source": [
    "mi , solutions = get_minim_Brut(exp)\n",
    "\n",
    "print(\"min:{}\".format(mi))\n",
    "print(\"solutions:\")\n",
    "for i in solutions:\n",
    "    print(i)"
   ]
  },
  {
   "cell_type": "markdown",
   "id": "86c8ad29",
   "metadata": {},
   "source": [
    "## Quanutm VQE"
   ]
  },
  {
   "cell_type": "code",
   "execution_count": 7,
   "id": "3397a1d6",
   "metadata": {},
   "outputs": [
    {
     "name": "stderr",
     "output_type": "stream",
     "text": [
      "/Users/voicutu/opt/anaconda3/envs/qmap/lib/python3.8/site-packages/qiskit/aqua/__init__.py:86: DeprecationWarning: The package qiskit.aqua is deprecated. It was moved/refactored to qiskit-terra For more information see <https://github.com/Qiskit/qiskit-aqua/blob/main/README.md#migration-guide>\n",
      "  warn_package('aqua', 'qiskit-terra')\n",
      "/Users/voicutu/opt/anaconda3/envs/qmap/lib/python3.8/site-packages/qiskit/optimization/__init__.py:92: DeprecationWarning: The package qiskit.optimization is deprecated. It was moved/refactored to qiskit_optimization (pip install qiskit-optimization). For more information see <https://github.com/Qiskit/qiskit-aqua/blob/main/README.md#migration-guide>\n",
      "  warn_package('optimization', 'qiskit_optimization', 'qiskit-optimization')\n",
      "/Users/voicutu/opt/anaconda3/envs/qmap/lib/python3.8/site-packages/qiskit/aqua/algorithms/minimum_eigen_solvers/minimum_eigen_solver.py:36: DeprecationWarning: The package qiskit.aqua.algorithms.minimum_eigen_solvers is deprecated. It was moved/refactored to qiskit.algorithms.minimum_eigen_solvers (pip install qiskit-terra). For more information see <https://github.com/Qiskit/qiskit-aqua/blob/main/README.md#migration-guide>\n",
      "  warn_package('aqua.algorithms.minimum_eigen_solvers',\n",
      "/Users/voicutu/opt/anaconda3/envs/qmap/lib/python3.8/site-packages/qiskit/aqua/algorithms/eigen_solvers/eigen_solver.py:36: DeprecationWarning: The package qiskit.aqua.algorithms.eigen_solvers is deprecated. It was moved/refactored to qiskit.algorithms.eigen_solvers (pip install qiskit-terra). For more information see <https://github.com/Qiskit/qiskit-aqua/blob/main/README.md#migration-guide>\n",
      "  warn_package('aqua.algorithms.eigen_solvers',\n"
     ]
    }
   ],
   "source": [
    "# imports \n",
    "\n",
    "from qiskit import BasicAer, Aer, IBMQ\n",
    "from qiskit.circuit import QuantumCircuit,QuantumRegister, ParameterVector\n",
    "\n",
    "from qiskit.tools.visualization import plot_histogram\n",
    "from qiskit.optimization.applications.ising import tsp\n",
    "from qiskit.aqua.algorithms import VQE, NumPyMinimumEigensolver\n",
    "from qiskit.aqua.components.optimizers import COBYLA\n",
    "\n",
    "# not n\n",
    "from qiskit.optimization.problems import QuadraticProgram\n",
    "\n",
    "\n",
    "from qiskit.optimization.algorithms import MinimumEigenOptimizer\n",
    "exact = MinimumEigenOptimizer(NumPyMinimumEigensolver())"
   ]
  },
  {
   "cell_type": "code",
   "execution_count": 8,
   "id": "78143227",
   "metadata": {},
   "outputs": [],
   "source": [
    "class jojo:\n",
    "    \n",
    "    def __init__(self,w):\n",
    "        self.w=w\n",
    "        self.dim=len(w[0])"
   ]
  },
  {
   "cell_type": "code",
   "execution_count": 9,
   "id": "8fca7717",
   "metadata": {},
   "outputs": [
    {
     "name": "stdout",
     "output_type": "stream",
     "text": [
      "Offset: 1600032.0\n",
      "Ising Hamiltonian:\n",
      "IIIIIIIIIIIIIIIZ\t(-200004+0j)\n",
      "IIIIIIIIIIZIIIII\t(-200003.5+0j)\n",
      "IIIIIIIIIIZIIIIZ\t(1+0j)\n",
      "IIIIIIIIIIIIIIZI\t(-200004+0j)\n",
      "IIIIIIIIIZIIIIII\t(-200003.5+0j)\n",
      "IIIIIIIIIZIIIIZI\t(1+0j)\n",
      "IIIIIIIIIIIIIZII\t(-200004+0j)\n",
      "IIIIIIIIZIIIIIII\t(-200003.5+0j)\n",
      "IIIIIIIIZIIIIZII\t(1+0j)\n",
      "IIIIIIIIIIIIZIII\t(-200004+0j)\n",
      "IIIIIIIIIIIZIIII\t(-200003.5+0j)\n",
      "IIIIIIIIIIIZZIII\t(1+0j)\n",
      "IIIIIIZIIIIIIIII\t(-200004+0j)\n",
      "IIIIIIZIIIIIIIIZ\t(0.25+0j)\n",
      "IIIIIZIIIIIIIIII\t(-200004+0j)\n",
      "IIIIIZIIIIIIIIZI\t(0.25+0j)\n",
      "IIIIZIIIIIIIIIII\t(-200004+0j)\n",
      "IIIIZIIIIIIIIZII\t(0.25+0j)\n",
      "IIIIIIIZIIIIIIII\t(-200004+0j)\n",
      "IIIIIIIZIIIIZIII\t(0.25+0j)\n",
      "IIZIIIIIIIIIIIII\t(-200004.5+0j)\n",
      "IIZIIIIIIIIIIIIZ\t(0.75+0j)\n",
      "IZIIIIIIIIIIIIII\t(-200004.5+0j)\n",
      "IZIIIIIIIIIIIIZI\t(0.75+0j)\n",
      "ZIIIIIIIIIIIIIII\t(-200004.5+0j)\n",
      "ZIIIIIIIIIIIIZII\t(0.75+0j)\n",
      "IIIZIIIIIIIIIIII\t(-200004.5+0j)\n",
      "IIIZIIIIIIIIZIII\t(0.75+0j)\n",
      "IIIIIIIIIIIZIIZI\t(1+0j)\n",
      "IIIIIIIIIIZIIZII\t(1+0j)\n",
      "IIIIIIIIIZIIZIII\t(1+0j)\n",
      "IIIIIIIIZIIIIIIZ\t(1+0j)\n",
      "IIIIIIZIIIIZIIII\t(0.5+0j)\n",
      "IIIIIZIIIIZIIIII\t(0.5+0j)\n",
      "IIIIZIIIIZIIIIII\t(0.5+0j)\n",
      "IIIIIIIZZIIIIIII\t(0.5+0j)\n",
      "IIZIIIIIIIIZIIII\t(0.25+0j)\n",
      "IZIIIIIIIIZIIIII\t(0.25+0j)\n",
      "ZIIIIIIIIZIIIIII\t(0.25+0j)\n",
      "IIIZIIIIZIIIIIII\t(0.25+0j)\n",
      "IIIIIIIZIIIIIIZI\t(0.25+0j)\n",
      "IIIIIIZIIIIIIZII\t(0.25+0j)\n",
      "IIIIIZIIIIIIZIII\t(0.25+0j)\n",
      "IIIIZIIIIIIIIIIZ\t(0.25+0j)\n",
      "IIIIIIIZIIZIIIII\t(0.5+0j)\n",
      "IIIIIIZIIZIIIIII\t(0.5+0j)\n",
      "IIIIIZIIZIIIIIII\t(0.5+0j)\n",
      "IIIIZIIIIIIZIIII\t(0.5+0j)\n",
      "IIZIIIIZIIIIIIII\t(1.25+0j)\n",
      "IZIIIIZIIIIIIIII\t(1.25+0j)\n",
      "ZIIIIZIIIIIIIIII\t(1.25+0j)\n",
      "IIIZZIIIIIIIIIII\t(1.25+0j)\n",
      "IIIZIIIIIIIIIIZI\t(0.75+0j)\n",
      "IIZIIIIIIIIIIZII\t(0.75+0j)\n",
      "IZIIIIIIIIIIZIII\t(0.75+0j)\n",
      "ZIIIIIIIIIIIIIIZ\t(0.75+0j)\n",
      "IIIZIIIIIIZIIIII\t(0.25+0j)\n",
      "IIZIIIIIIZIIIIII\t(0.25+0j)\n",
      "IZIIIIIIZIIIIIII\t(0.25+0j)\n",
      "ZIIIIIIIIIIZIIII\t(0.25+0j)\n",
      "IIIZIIZIIIIIIIII\t(1.25+0j)\n",
      "IIZIIZIIIIIIIIII\t(1.25+0j)\n",
      "IZIIZIIIIIIIIIII\t(1.25+0j)\n",
      "ZIIIIIIZIIIIIIII\t(1.25+0j)\n",
      "IIIIIIIIIIIZIIIZ\t(50000+0j)\n",
      "IIIIIIIZIIIIIIIZ\t(50000+0j)\n",
      "IIIIIIIZIIIZIIII\t(50000+0j)\n",
      "IIIZIIIIIIIIIIIZ\t(50000+0j)\n",
      "IIIZIIIIIIIZIIII\t(50000+0j)\n",
      "IIIZIIIZIIIIIIII\t(50000+0j)\n",
      "IIIIIIIIIIZIIIZI\t(50000+0j)\n",
      "IIIIIIZIIIIIIIZI\t(50000+0j)\n",
      "IIIIIIZIIIZIIIII\t(50000+0j)\n",
      "IIZIIIIIIIIIIIZI\t(50000+0j)\n",
      "IIZIIIIIIIZIIIII\t(50000+0j)\n",
      "IIZIIIZIIIIIIIII\t(50000+0j)\n",
      "IIIIIIIIIZIIIZII\t(50000+0j)\n",
      "IIIIIZIIIIIIIZII\t(50000+0j)\n",
      "IIIIIZIIIZIIIIII\t(50000+0j)\n",
      "IZIIIIIIIIIIIZII\t(50000+0j)\n",
      "IZIIIIIIIZIIIIII\t(50000+0j)\n",
      "IZIIIZIIIIIIIIII\t(50000+0j)\n",
      "IIIIIIIIZIIIZIII\t(50000+0j)\n",
      "IIIIZIIIIIIIZIII\t(50000+0j)\n",
      "IIIIZIIIZIIIIIII\t(50000+0j)\n",
      "ZIIIIIIIIIIIZIII\t(50000+0j)\n",
      "ZIIIIIIIZIIIIIII\t(50000+0j)\n",
      "ZIIIZIIIIIIIIIII\t(50000+0j)\n",
      "IIIIIIIIIIIIIIZZ\t(50000+0j)\n",
      "IIIIIIIIIIIIIZIZ\t(50000+0j)\n",
      "IIIIIIIIIIIIIZZI\t(50000+0j)\n",
      "IIIIIIIIIIIIZIIZ\t(50000+0j)\n",
      "IIIIIIIIIIIIZIZI\t(50000+0j)\n",
      "IIIIIIIIIIIIZZII\t(50000+0j)\n",
      "IIIIIIIIIIZZIIII\t(50000+0j)\n",
      "IIIIIIIIIZIZIIII\t(50000+0j)\n",
      "IIIIIIIIIZZIIIII\t(50000+0j)\n",
      "IIIIIIIIZIIZIIII\t(50000+0j)\n",
      "IIIIIIIIZIZIIIII\t(50000+0j)\n",
      "IIIIIIIIZZIIIIII\t(50000+0j)\n",
      "IIIIIIZZIIIIIIII\t(50000+0j)\n",
      "IIIIIZIZIIIIIIII\t(50000+0j)\n",
      "IIIIIZZIIIIIIIII\t(50000+0j)\n",
      "IIIIZIIZIIIIIIII\t(50000+0j)\n",
      "IIIIZIZIIIIIIIII\t(50000+0j)\n",
      "IIIIZZIIIIIIIIII\t(50000+0j)\n",
      "IIZZIIIIIIIIIIII\t(50000+0j)\n",
      "IZIZIIIIIIIIIIII\t(50000+0j)\n",
      "IZZIIIIIIIIIIIII\t(50000+0j)\n",
      "ZIIZIIIIIIIIIIII\t(50000+0j)\n",
      "ZIZIIIIIIIIIIIII\t(50000+0j)\n",
      "ZZIIIIIIIIIIIIII\t(50000+0j)\n",
      "\n"
     ]
    },
    {
     "name": "stderr",
     "output_type": "stream",
     "text": [
      "/Users/voicutu/opt/anaconda3/envs/qmap/lib/python3.8/site-packages/qiskit/optimization/applications/ising/tsp.py:207: DeprecationWarning: The package qiskit.aqua.operators is deprecated. It was moved/refactored to qiskit.opflow (pip install qiskit-terra). For more information see <https://github.com/Qiskit/qiskit-aqua/blob/main/README.md#migration-guide>\n",
      "  return WeightedPauliOperator(paulis=pauli_list), shift\n"
     ]
    }
   ],
   "source": [
    "qubitOp, offset = tsp.get_operator(jojo(exp))\n",
    "print('Offset:', offset)\n",
    "print('Ising Hamiltonian:')\n",
    "print(qubitOp.print_details())"
   ]
  },
  {
   "cell_type": "code",
   "execution_count": 10,
   "id": "a16bc6a2",
   "metadata": {},
   "outputs": [
    {
     "name": "stdout",
     "output_type": "stream",
     "text": [
      "// This file has been generated by DOcplex\n",
      "// model name is: AnonymousModel\n",
      "// single vars section\n",
      "dvar bool x_0;\n",
      "dvar bool x_1;\n",
      "dvar bool x_2;\n",
      "dvar bool x_3;\n",
      "dvar bool x_4;\n",
      "dvar bool x_5;\n",
      "dvar bool x_6;\n",
      "dvar bool x_7;\n",
      "dvar bool x_8;\n",
      "dvar bool x_9;\n",
      "dvar bool x_10;\n",
      "dvar bool x_11;\n",
      "dvar bool x_12;\n",
      "dvar bool x_13;\n",
      "dvar bool x_14;\n",
      "dvar bool x_15;\n",
      "\n",
      "minimize\n",
      " - 200000 x_0 - 200000 x_1 - 200000 x_2 - 200000 x_3 - 200000 x_4 - 200000 x_5\n",
      " - 200000 x_6 - 200000 x_7 - 200000 x_8 - 200000 x_9 - 200000 x_10\n",
      " - 200000 x_11 - 200000 x_12 - 200000 x_13 - 200000 x_14 - 200000 x_15 [\n",
      " 200000 x_0*x_1 + 200000 x_0*x_2 + 200000 x_0*x_3 + 200000 x_0*x_4 + 4 x_0*x_5\n",
      " + 4 x_0*x_7 + 200000 x_0*x_8 + x_0*x_9 + x_0*x_11 + 200000 x_0*x_12\n",
      " + 3 x_0*x_13 + 3 x_0*x_15 + 200000 x_1*x_2 + 200000 x_1*x_3 + 4 x_1*x_4\n",
      " + 200000 x_1*x_5 + 4 x_1*x_6 + x_1*x_8 + 200000 x_1*x_9 + x_1*x_10\n",
      " + 3 x_1*x_12 + 200000 x_1*x_13 + 3 x_1*x_14 + 200000 x_2*x_3 + 4 x_2*x_5\n",
      " + 200000 x_2*x_6 + 4 x_2*x_7 + x_2*x_9 + 200000 x_2*x_10 + x_2*x_11\n",
      " + 3 x_2*x_13 + 200000 x_2*x_14 + 3 x_2*x_15 + 4 x_3*x_4 + 4 x_3*x_6\n",
      " + 200000 x_3*x_7 + x_3*x_8 + x_3*x_10 + 200000 x_3*x_11 + 3 x_3*x_12\n",
      " + 3 x_3*x_14 + 200000 x_3*x_15 + 200000 x_4*x_5 + 200000 x_4*x_6\n",
      " + 200000 x_4*x_7 + 200000 x_4*x_8 + 2 x_4*x_9 + 2 x_4*x_11 + 200000 x_4*x_12\n",
      " + x_4*x_13 + x_4*x_15 + 200000 x_5*x_6 + 200000 x_5*x_7 + 2 x_5*x_8\n",
      " + 200000 x_5*x_9 + 2 x_5*x_10 + x_5*x_12 + 200000 x_5*x_13 + x_5*x_14\n",
      " + 200000 x_6*x_7 + 2 x_6*x_9 + 200000 x_6*x_10 + 2 x_6*x_11 + x_6*x_13\n",
      " + 200000 x_6*x_14 + x_6*x_15 + 2 x_7*x_8 + 2 x_7*x_10 + 200000 x_7*x_11\n",
      " + x_7*x_12 + x_7*x_14 + 200000 x_7*x_15 + 200000 x_8*x_9 + 200000 x_8*x_10\n",
      " + 200000 x_8*x_11 + 200000 x_8*x_12 + 5 x_8*x_13 + 5 x_8*x_15\n",
      " + 200000 x_9*x_10 + 200000 x_9*x_11 + 5 x_9*x_12 + 200000 x_9*x_13\n",
      " + 5 x_9*x_14 + 200000 x_10*x_11 + 5 x_10*x_13 + 200000 x_10*x_14\n",
      " + 5 x_10*x_15 + 5 x_11*x_12 + 5 x_11*x_14 + 200000 x_11*x_15\n",
      " + 200000 x_12*x_13 + 200000 x_12*x_14 + 200000 x_12*x_15 + 200000 x_13*x_14\n",
      " + 200000 x_13*x_15 + 200000 x_14*x_15 ] + 800000;\n",
      " \n",
      "subject to {\n",
      "\n",
      "}\n"
     ]
    }
   ],
   "source": [
    "qp = QuadraticProgram()\n",
    "qp.from_ising(qubitOp, offset, linear=True)\n",
    "qp.to_docplex().prettyprint()\n",
    "cq_result = exact.solve(qp)"
   ]
  },
  {
   "cell_type": "code",
   "execution_count": 11,
   "id": "054be2a5",
   "metadata": {},
   "outputs": [],
   "source": [
    "def convert_to_order(rezult):\n",
    "    order=[]\n",
    "    for i in rezult:\n",
    "        for k in range(len(i)):\n",
    "            if i[k]==1:\n",
    "                order.append(k)\n",
    "    return order"
   ]
  },
  {
   "cell_type": "code",
   "execution_count": 12,
   "id": "ea08f936",
   "metadata": {},
   "outputs": [
    {
     "name": "stdout",
     "output_type": "stream",
     "text": [
      "mi:7.0\n",
      "[0, 2, 1, 3]\n"
     ]
    }
   ],
   "source": [
    "cq_min=cq_result.fval\n",
    "cq_rezult=cq_result.raw_samples[0].x.reshape((size,size))\n",
    "\n",
    "rezult=convert_to_order(cq_rezult)\n",
    "\n",
    "print(\"mi:{}\".format(cq_min))\n",
    "print(rezult)"
   ]
  },
  {
   "cell_type": "code",
   "execution_count": 13,
   "id": "884a7135",
   "metadata": {},
   "outputs": [],
   "source": [
    "def geen_1(size,nr_layers):\n",
    "    \n",
    "    \n",
    "    \n",
    "    nr_q=size*size\n",
    "    params = ParameterVector('theta',nr_q*2*nr_layers)\n",
    "    it=0\n",
    "    \n",
    "    circ = QuantumCircuit(nr_q)\n",
    "    #initialize\n",
    "    for i in range(nr_q):\n",
    "        circ.h(i)\n",
    "\n",
    "    for l in range(nr_layers):\n",
    "        \n",
    "        for qubit in range(nr_q):\n",
    "            circ.rx(params[it],qubit)\n",
    "            circ.rz(params[it],qubit)\n",
    "        \n",
    "        #for qubit in range(nr_q-1):\n",
    "         #   circ.cx(qubit,qubit+1)\n",
    "            \n",
    "        circ.barrier()\n",
    "        \n",
    "        \n",
    "    return circ"
   ]
  },
  {
   "cell_type": "code",
   "execution_count": 14,
   "id": "f7746964",
   "metadata": {},
   "outputs": [
    {
     "name": "stderr",
     "output_type": "stream",
     "text": [
      "/Users/voicutu/opt/anaconda3/envs/qmap/lib/python3.8/site-packages/qiskit/aqua/components/optimizers/optimizer.py:49: DeprecationWarning: The package qiskit.aqua.components.optimizers is deprecated. It was moved/refactored to qiskit.algorithms.optimizers (pip install qiskit-terra). For more information see <https://github.com/Qiskit/qiskit-aqua/blob/main/README.md#migration-guide>\n",
      "  warn_package('aqua.components.optimizers',\n"
     ]
    }
   ],
   "source": [
    "backend = BasicAer.get_backend(\"qasm_simulator\")\n",
    "optim = COBYLA(maxiter=1000)"
   ]
  },
  {
   "cell_type": "code",
   "execution_count": 15,
   "id": "ec5ae54d",
   "metadata": {},
   "outputs": [
    {
     "data": {
      "image/png": "[encoded data removed]",
      "text/plain": [
       "<Figure size 340.523x987.28 with 1 Axes>"
      ]
     },
     "execution_count": 15,
     "metadata": {},
     "output_type": "execute_result"
    }
   ],
   "source": [
    "ex_1=geen_1(size,nr_layers=1)\n",
    "ex_1.draw('mpl')"
   ]
  },
  {
   "cell_type": "code",
   "execution_count": 18,
   "id": "4756901e",
   "metadata": {},
   "outputs": [],
   "source": [
    "vqe = VQE(qubitOp, var_form=ex_1, optimizer=optim)\n",
    "job=vqe.run(backend)"
   ]
  },
  {
   "cell_type": "code",
   "execution_count": 19,
   "id": "2d0a24d9",
   "metadata": {},
   "outputs": [],
   "source": [
    "vqe_result = np.real(job['eigenvalue'] ) "
   ]
  },
  {
   "cell_type": "code",
   "execution_count": 21,
   "id": "330b5b9d",
   "metadata": {},
   "outputs": [
    {
     "data": {
      "text/plain": [
       "-1590657.1259765625"
      ]
     },
     "execution_count": 21,
     "metadata": {},
     "output_type": "execute_result"
    }
   ],
   "source": [
    "job.e"
   ]
  },
  {
   "cell_type": "code",
   "execution_count": null,
   "id": "9eb2cce0",
   "metadata": {},
   "outputs": [],
   "source": []
  }
 ],
 "metadata": {
  "kernelspec": {
   "display_name": "Python 3",
   "language": "python",
   "name": "python3"
  },
  "language_info": {
   "codemirror_mode": {
    "name": "ipython",
    "version": 3
   },
   "file_extension": ".py",
   "mimetype": "text/x-python",
   "name": "python",
   "nbconvert_exporter": "python",
   "pygments_lexer": "ipython3",
   "version": "3.8.11"
  }
 },
 "nbformat": 4,
 "nbformat_minor": 5
}
