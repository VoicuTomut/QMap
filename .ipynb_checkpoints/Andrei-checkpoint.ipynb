{
 "cells": [
  {
   "cell_type": "code",
   "execution_count": 1,
   "id": "1698b8a4",
   "metadata": {},
   "outputs": [],
   "source": [
    "import numpy as np\n",
    "import matplotlib.pyplot as plt \n",
    "\n"
   ]
  },
  {
   "cell_type": "code",
   "execution_count": 13,
   "id": "0d072883",
   "metadata": {},
   "outputs": [
    {
     "name": "stdout",
     "output_type": "stream",
     "text": [
      "[0. 4. 1. 3.]\n",
      "[4. 0. 2. 1.]\n",
      "[1. 2. 0. 5.]\n",
      "[3. 1. 5. 0.]\n"
     ]
    }
   ],
   "source": [
    "# Input:\n",
    "size=4\n",
    "\n",
    "pub_index=[i for i in range(size)]\n",
    "exp=np.zeros((4,4))\n",
    "\n",
    "\n",
    "###\n",
    "exp[0][1]=4\n",
    "exp[0][2]=1\n",
    "exp[0][3]=3\n",
    "\n",
    "exp[1][2]=2\n",
    "exp[1][3]=1\n",
    "\n",
    "exp[2][3]=5\n",
    "\n",
    "exp[1][0]=4\n",
    "exp[2][0]=1\n",
    "exp[3][0]=3\n",
    "\n",
    "exp[2][1]=2\n",
    "exp[3][1]=1\n",
    "\n",
    "exp[3][2]=5\n",
    "###\n",
    "\n",
    "for i in exp:\n",
    "    print(i)\n",
    "    "
   ]
  },
  {
   "cell_type": "markdown",
   "id": "0b3e529d",
   "metadata": {},
   "source": [
    "## Classic brut "
   ]
  },
  {
   "cell_type": "code",
   "execution_count": 14,
   "id": "3038cc03",
   "metadata": {},
   "outputs": [],
   "source": [
    "# classic imports \n",
    "\n",
    "from itertools import permutations\n",
    "import numpy as np\n"
   ]
  },
  {
   "cell_type": "code",
   "execution_count": 16,
   "id": "11ae79b8",
   "metadata": {},
   "outputs": [
    {
     "name": "stdout",
     "output_type": "stream",
     "text": [
      "(0, 1, 2, 3)\n",
      "(0, 1, 3, 2)\n",
      "(0, 2, 1, 3)\n",
      "(0, 2, 3, 1)\n",
      "(0, 3, 1, 2)\n",
      "(0, 3, 2, 1)\n",
      "(1, 0, 2, 3)\n",
      "(1, 0, 3, 2)\n",
      "(1, 2, 0, 3)\n",
      "(1, 2, 3, 0)\n",
      "(1, 3, 0, 2)\n",
      "(1, 3, 2, 0)\n",
      "(2, 0, 1, 3)\n",
      "(2, 0, 3, 1)\n",
      "(2, 1, 0, 3)\n",
      "(2, 1, 3, 0)\n",
      "(2, 3, 0, 1)\n",
      "(2, 3, 1, 0)\n",
      "(3, 0, 1, 2)\n",
      "(3, 0, 2, 1)\n",
      "(3, 1, 0, 2)\n",
      "(3, 1, 2, 0)\n",
      "(3, 2, 0, 1)\n",
      "(3, 2, 1, 0)\n"
     ]
    }
   ],
   "source": [
    "opt=permutations(pub_index)\n",
    "\n",
    "for o in opt:\n",
    "    print(o)"
   ]
  },
  {
   "cell_type": "code",
   "execution_count": 23,
   "id": "1ffb1f07",
   "metadata": {},
   "outputs": [],
   "source": [
    "def cost(rut,w):\n",
    "    \n",
    "    dist=0\n",
    "    for i in range(len(rut)-1):\n",
    "        dist=dist+w[rut[i]][rut[i+1]]\n",
    "        \n",
    "    dist=dist+w[0][rut[-1]]\n",
    "    \n",
    "    return dist\n",
    "\n",
    "def get_minim_Brut(w):\n",
    "    \n",
    "    opt=permutations(pub_index)\n",
    "    opt=list(opt)\n",
    "    mi=cost(opt[0],w)\n",
    "    solutions=[]\n",
    "    \n",
    "    for rut in opt:\n",
    "        c=cost(rut,w)\n",
    "        if (mi>c):\n",
    "            solutions=[]\n",
    "            solutions.append(rut)\n",
    "            mi=c\n",
    "        elif (mi==c):\n",
    "            solutions.append(rut)\n",
    "            \n",
    "    return mi , solutions\n",
    "        "
   ]
  },
  {
   "cell_type": "code",
   "execution_count": 24,
   "id": "134b2ca1",
   "metadata": {},
   "outputs": [
    {
     "name": "stdout",
     "output_type": "stream",
     "text": [
      "min:4.0\n",
      "solutions:\n",
      "(3, 1, 2, 0)\n"
     ]
    }
   ],
   "source": [
    "mi , solutions = get_minim(exp)\n",
    "\n",
    "print(\"min:{}\".format(mi))\n",
    "print(\"solutions:\")\n",
    "for i in solutions:\n",
    "    print(i)"
   ]
  },
  {
   "cell_type": "code",
   "execution_count": null,
   "id": "f3cc773b",
   "metadata": {},
   "outputs": [],
   "source": []
  }
 ],
 "metadata": {
  "kernelspec": {
   "display_name": "Python 3",
   "language": "python",
   "name": "python3"
  },
  "language_info": {
   "codemirror_mode": {
    "name": "ipython",
    "version": 3
   },
   "file_extension": ".py",
   "mimetype": "text/x-python",
   "name": "python",
   "nbconvert_exporter": "python",
   "pygments_lexer": "ipython3",
   "version": "3.8.11"
  }
 },
 "nbformat": 4,
 "nbformat_minor": 5
}
